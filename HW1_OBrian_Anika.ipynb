{
 "cells": [
  {
   "cell_type": "markdown",
   "id": "31248c73-4237-4825-90dc-6868e86f5da4",
   "metadata": {},
   "source": [
    "## HW 1 ( 30 points)"
   ]
  },
  {
   "cell_type": "markdown",
   "id": "78957f83-fa97-4d36-ae0b-2f5331f91fc7",
   "metadata": {},
   "source": [
    "#### Submit your homework as a. ipynb file. Use the format 'HW1_LastName_FirstName.ipynb'. If there are no comments/markdown describing what you have done, your work will not be graded. Follow the code of conduct. "
   ]
  },
  {
   "cell_type": "markdown",
   "id": "5e3c0416-838e-4b72-8851-92d9e788e810",
   "metadata": {},
   "source": [
    "### Problem 1: Data Extraction and Modification (10)"
   ]
  },
  {
   "cell_type": "markdown",
   "id": "8afb4315-0c70-4aa5-aaca-db1b615a927e",
   "metadata": {},
   "source": [
    "Write a Python function `extract_parameter` that takes the `unit_operations_data` dictionary, and outputs the name of the inputted unit operation, its desired feature name and value.  It will take a `unit_name` (string), a `parameter_name` (string), and an `index` (integer) as inputs and return a string in the format: \"`{unit_name}_{parameter_name}_{value}`\". If the `unit_name` or `parameter_name` is not found, or the `index` is out of range, the function should return \"Invalid input\".\n"
   ]
  },
  {
   "cell_type": "code",
   "execution_count": null,
   "id": "bc79a14c-736d-43d0-99e9-15305807ae70",
   "metadata": {},
   "outputs": [
    {
     "name": "stdout",
     "output_type": "stream",
     "text": [
      "distillation_column_temperature_160\n",
      "Invalid input\n",
      "reactor_pressure_5.5\n"
     ]
    }
   ],
   "source": [
    "unit_operations_data = {\n",
    "    \"distillation_column\": {\"temperature\": [150, 160, 170], \"pressure\": [2, 2.5, 3], \"flow_rate\": [100, 110, 120]},\n",
    "    \"reactor\": {\"temperature\": [250, 260, 270], \"pressure\": [5, 5.5, 6], \"residence_time\": [10, 12, 14]},\n",
    "    \"heat_exchanger\": {\"temperature_in\": [80, 90, 100], \"temperature_out\": [50, 60, 70], \"flow_rate\": [200, 210, 220]}\n",
    "}\n",
    "\n",
    "# write a function extract_parameter that takes the above dictionary and outputs the name of inputted unit operation, its desired feature name and value\n",
    "#  It will take a `unit_name` (string), a `parameter_name` (string), and an `index` (integer) as inputs and return a string in the \n",
    "# format: \"`{unit_name}_{parameter_name}_{value}`\". If the `unit_name` or `parameter_name` is not found, or the `index` is out of range, the function should return \"Invalid input\".\n",
    "def extract_parameter(unit_name, parameter_name, index):\n",
    "    if unit_name in unit_operations_data:\n",
    "        if parameter_name in unit_operations_data[unit_name]:\n",
    "            if index < len(unit_operations_data[unit_name][parameter_name]):\n",
    "                return f\"{unit_name}_{parameter_name}_{unit_operations_data[unit_name][parameter_name][index]}\"\n",
    "            else:\n",
    "                return \"Invalid input\"\n",
    "        else:\n",
    "            return \"Invalid input\"\n",
    "    else:\n",
    "        return \"Invalid input\"\n",
    "# test \n",
    "print(extract_parameter(\"distillation_column\", \"temperature\", 1)) \n",
    "print(extract_parameter(\"reactor\", \"pressure\", 5.5))\n",
    "print(extract_parameter(\"reactor\", \"pressure\", 1))"
   ]
  },
  {
   "cell_type": "markdown",
   "id": "c61f98f1-8c13-402d-8b5c-99978b12c660",
   "metadata": {},
   "source": [
    "Example: `extract_parameter(\"distillation_column\", \"temperature\", 1)` should return \"distillation_column_temperature_160\". Hint: Look up try and except method for error handling in Python. "
   ]
  },
  {
   "cell_type": "markdown",
   "id": "1efd46aa-7454-41f8-927c-f3cecd7d5d2e",
   "metadata": {
    "tags": []
   },
   "source": [
    "### Problem 2: Chemical Solution Calculator (10 points)"
   ]
  },
  {
   "cell_type": "markdown",
   "id": "2b307912-0fe6-45c9-b3b9-5a16057e9aac",
   "metadata": {},
   "source": [
    "You are working in a lab preparing chemical solutions. You have a dictionary of chemicals\n",
    "with their molecular weights and a list of required solutions. "
   ]
  },
  {
   "cell_type": "code",
   "execution_count": 6,
   "id": "9eafa086-265c-4f38-976d-e71d5ec3e8b2",
   "metadata": {},
   "outputs": [],
   "source": [
    "molecular_weights = {\n",
    "    'NaCl': 58.44,\n",
    "    'H2SO4': 98.079,\n",
    "    'NaOH': 40.00,\n",
    "    'KMnO4': 158.034,\n",
    "    'CH3COOH': 60.052\n",
    "}"
   ]
  },
  {
   "cell_type": "code",
   "execution_count": 7,
   "id": "72313142-ae9d-4947-a893-5a9606536ba8",
   "metadata": {},
   "outputs": [],
   "source": [
    "solutions_needed = ['NaCl-0.5M', 'H2SO4-0.25M', 'NaOH-1M', 'KCl-0.1M', 'CH3COOH-0.3M']"
   ]
  },
  {
   "cell_type": "markdown",
   "id": "53bb711c-f5ff-4fde-8b35-34893b65ffb8",
   "metadata": {},
   "source": [
    "Create a function ```calculate_solution_weights(molecular_weights, solutions_needed)``` that takes these inputs and returns a modified list where:\n",
    "   - If the chemical exists in molecular_weights, replace the entry with:\n",
    "     'chemical_formula-concentration-weight'\n",
    "     where weight represents the weight of the compound in 1 litre solution in grams.\n",
    "\n",
    "     `weight = molecular_weight * concentration`\n",
    "   - If the chemical doesn't exist in molecular_weights, replace with 'unknown'\n",
    "   \n",
    "Example output:\n",
    "`['NaCl-0.5M-29.22g', 'H2SO4-0.25M-24.52g', 'NaOH-1M-40.00g', 'unknown', 'CH3COOH-0.3M-18.02g']`\n"
   ]
  },
  {
   "cell_type": "code",
   "execution_count": 9,
   "id": "a897bb81-1029-48f1-8d75-3621be2866ce",
   "metadata": {},
   "outputs": [
    {
     "name": "stdout",
     "output_type": "stream",
     "text": [
      "['NaCl-0.5-29.22', 'H2SO4-0.25-24.51975', 'NaOH-1-40.0', 'KCl-0.1-unknown', 'CH3COOH-0.3-18.0156']\n"
     ]
    }
   ],
   "source": [
    "# create a function calculate_solution_weights(molecular_weights, solutions_needed) that takes in a dictionary of molecular weights and a list of solutions needed.\n",
    "# should return a a modified list where replaces entry with chemical_formula-concentration-weight and weight = molecular_weight * concentration\n",
    "# if chemical does not exist in molecular_weights replace with unknown\n",
    "def calculate_solution_weights(molecular_weights, solutions_needed):\n",
    "    for i in range(len(solutions_needed)):\n",
    "        chemical, concentration = solutions_needed[i].split('-')\n",
    "        # take off the M from concentration and convert to float\n",
    "        concentration = concentration[:-1]\n",
    "        if chemical in molecular_weights:\n",
    "            solutions_needed[i] = f\"{chemical}-{concentration}-{molecular_weights[chemical]*float(concentration)}\"\n",
    "        else:\n",
    "            solutions_needed[i] = f\"{chemical}-{concentration}-unknown\"\n",
    "    return solutions_needed\n",
    "# test\n",
    "print(calculate_solution_weights(molecular_weights, solutions_needed)) # ['NaCl-0.5M-29.22', 'H2SO4-0.25M-24.51975', 'NaOH-1M-40.0', 'KCl-0.1M-unknown', 'CH3COOH-0.3M-18.0156']\n"
   ]
  },
  {
   "cell_type": "markdown",
   "id": "29ebc886-5b12-4e9a-ab78-55e9ff0319bc",
   "metadata": {},
   "source": [
    "### Problem 3: Git Version Control (10 Points)"
   ]
  },
  {
   "cell_type": "markdown",
   "id": "8ea117aa-d244-4972-97a0-db182a94b243",
   "metadata": {},
   "source": [
    "\n",
    "Create a public Git repository for this assignment on GitHub.\n",
    "\n",
    "1. Clone this repository to your local computer (connect your github repo to your local repo if needed).\n",
    "2. Make a Python file containing extract_parameter function. Add this file to the git repo and commit.\n",
    "3. Make a Python file containing calculate_solution_weights function. Add this file to the git repo and commit. Write meaningful messages while committing.\n",
    "4. Add a file with name 'README.md' that briefly explains your approach and how to run your Python files.\n",
    "5. dd 'README.md' file to the repo and commit.\n",
    "6. Push the repo to github.\n",
    "7. Submit the link to your public github repo."
   ]
  },
  {
   "cell_type": "code",
   "execution_count": null,
   "id": "6e8cc553-f9cb-4245-9b2f-f8377761ea87",
   "metadata": {},
   "outputs": [],
   "source": []
  }
 ],
 "metadata": {
  "kernelspec": {
   "display_name": "Winter2025",
   "language": "python",
   "name": "python3"
  },
  "language_info": {
   "codemirror_mode": {
    "name": "ipython",
    "version": 3
   },
   "file_extension": ".py",
   "mimetype": "text/x-python",
   "name": "python",
   "nbconvert_exporter": "python",
   "pygments_lexer": "ipython3",
   "version": "3.11.5"
  }
 },
 "nbformat": 4,
 "nbformat_minor": 5
}
